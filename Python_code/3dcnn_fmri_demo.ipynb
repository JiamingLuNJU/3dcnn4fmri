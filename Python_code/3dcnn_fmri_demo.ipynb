{
 "cells": [
  {
   "cell_type": "code",
   "execution_count": 1,
   "metadata": {},
   "outputs": [
    {
     "name": "stderr",
     "output_type": "stream",
     "text": [
      "/home/hailey/anaconda3/envs/env_for_notebook/lib/python3.6/site-packages/tensorflow/python/framework/dtypes.py:469: FutureWarning: Passing (type, 1) or '1type' as a synonym of type is deprecated; in a future version of numpy, it will be understood as (type, (1,)) / '(1,)type'.\n",
      "  _np_qint8 = np.dtype([(\"qint8\", np.int8, 1)])\n",
      "/home/hailey/anaconda3/envs/env_for_notebook/lib/python3.6/site-packages/tensorflow/python/framework/dtypes.py:470: FutureWarning: Passing (type, 1) or '1type' as a synonym of type is deprecated; in a future version of numpy, it will be understood as (type, (1,)) / '(1,)type'.\n",
      "  _np_quint8 = np.dtype([(\"quint8\", np.uint8, 1)])\n",
      "/home/hailey/anaconda3/envs/env_for_notebook/lib/python3.6/site-packages/tensorflow/python/framework/dtypes.py:471: FutureWarning: Passing (type, 1) or '1type' as a synonym of type is deprecated; in a future version of numpy, it will be understood as (type, (1,)) / '(1,)type'.\n",
      "  _np_qint16 = np.dtype([(\"qint16\", np.int16, 1)])\n",
      "/home/hailey/anaconda3/envs/env_for_notebook/lib/python3.6/site-packages/tensorflow/python/framework/dtypes.py:472: FutureWarning: Passing (type, 1) or '1type' as a synonym of type is deprecated; in a future version of numpy, it will be understood as (type, (1,)) / '(1,)type'.\n",
      "  _np_quint16 = np.dtype([(\"quint16\", np.uint16, 1)])\n",
      "/home/hailey/anaconda3/envs/env_for_notebook/lib/python3.6/site-packages/tensorflow/python/framework/dtypes.py:473: FutureWarning: Passing (type, 1) or '1type' as a synonym of type is deprecated; in a future version of numpy, it will be understood as (type, (1,)) / '(1,)type'.\n",
      "  _np_qint32 = np.dtype([(\"qint32\", np.int32, 1)])\n",
      "/home/hailey/anaconda3/envs/env_for_notebook/lib/python3.6/site-packages/tensorflow/python/framework/dtypes.py:476: FutureWarning: Passing (type, 1) or '1type' as a synonym of type is deprecated; in a future version of numpy, it will be understood as (type, (1,)) / '(1,)type'.\n",
      "  np_resource = np.dtype([(\"resource\", np.ubyte, 1)])\n",
      "/home/hailey/anaconda3/envs/env_for_notebook/lib/python3.6/importlib/_bootstrap.py:219: RuntimeWarning: compiletime version 3.5 of module 'tensorflow.python.framework.fast_tensor_util' does not match runtime version 3.6\n",
      "  return f(*args, **kwds)\n"
     ]
    }
   ],
   "source": [
    "import tensorflow as tf\n",
    "import numpy as np\n",
    "import matplotlib.pyplot as plt\n",
    "import scipy.io as sio\n",
    "import os"
   ]
  },
  {
   "cell_type": "markdown",
   "metadata": {},
   "source": [
    "### Load the data"
   ]
  },
  {
   "cell_type": "code",
   "execution_count": 2,
   "metadata": {},
   "outputs": [],
   "source": [
    "vols = sio.loadmat('./sensorimotor_4D_sample.mat')"
   ]
  },
  {
   "cell_type": "code",
   "execution_count": 3,
   "metadata": {},
   "outputs": [],
   "source": [
    "X_train, X_test, y_train, y_test = vols['X_train'], vols['X_test'], vols['y_train'], vols['y_test']\n",
    "n_classes = 4"
   ]
  },
  {
   "cell_type": "code",
   "execution_count": 4,
   "metadata": {},
   "outputs": [
    {
     "name": "stdout",
     "output_type": "stream",
     "text": [
      "(1320, 53, 63, 46) (120, 53, 63, 46) (1320, 1) (120, 1)\n"
     ]
    }
   ],
   "source": [
    "print(np.shape(X_train),np.shape(X_test),np.shape(y_train),np.shape(y_test))"
   ]
  },
  {
   "cell_type": "code",
   "execution_count": 5,
   "metadata": {},
   "outputs": [
    {
     "data": {
      "text/plain": [
       "array([[1],\n",
       "       [2],\n",
       "       [0],\n",
       "       ...,\n",
       "       [3],\n",
       "       [2],\n",
       "       [3]], dtype=uint8)"
      ]
     },
     "execution_count": 5,
     "metadata": {},
     "output_type": "execute_result"
    }
   ],
   "source": [
    "y_train"
   ]
  },
  {
   "cell_type": "markdown",
   "metadata": {},
   "source": [
    "### z-scoring to normalize the data"
   ]
  },
  {
   "cell_type": "code",
   "execution_count": 6,
   "metadata": {},
   "outputs": [],
   "source": [
    "x_mean = np.mean(X_train)\n",
    "x_std = np.std(X_train)"
   ]
  },
  {
   "cell_type": "code",
   "execution_count": 7,
   "metadata": {},
   "outputs": [],
   "source": [
    "X_tr_centered = (X_train - x_mean)/x_std\n",
    "X_ts_centered = (X_test - x_mean)/x_std"
   ]
  },
  {
   "cell_type": "markdown",
   "metadata": {},
   "source": [
    "### 1D array for labels"
   ]
  },
  {
   "cell_type": "code",
   "execution_count": 8,
   "metadata": {},
   "outputs": [],
   "source": [
    "y_train = y_train.flatten()\n",
    "y_test = y_test.flatten()"
   ]
  },
  {
   "cell_type": "markdown",
   "metadata": {},
   "source": [
    "#### Checking out the dimension"
   ]
  },
  {
   "cell_type": "code",
   "execution_count": 9,
   "metadata": {},
   "outputs": [
    {
     "data": {
      "text/plain": [
       "((1320, 53, 63, 46), (120, 53, 63, 46))"
      ]
     },
     "execution_count": 9,
     "metadata": {},
     "output_type": "execute_result"
    }
   ],
   "source": [
    "X_tr_centered.shape,  X_ts_centered.shape"
   ]
  },
  {
   "cell_type": "code",
   "execution_count": 10,
   "metadata": {},
   "outputs": [
    {
     "data": {
      "text/plain": [
       "1.0094781412712692"
      ]
     },
     "execution_count": 10,
     "metadata": {},
     "output_type": "execute_result"
    }
   ],
   "source": [
    "np.std(X_ts_centered)"
   ]
  },
  {
   "cell_type": "markdown",
   "metadata": {},
   "source": [
    "#### Checking out the image "
   ]
  },
  {
   "cell_type": "code",
   "execution_count": 11,
   "metadata": {
    "scrolled": true
   },
   "outputs": [
    {
     "data": {
      "image/png": "[encoded data removed]",
      "text/plain": [
       "<Figure size 432x288 with 1 Axes>"
      ]
     },
     "metadata": {
      "needs_background": "light"
     },
     "output_type": "display_data"
    }
   ],
   "source": [
    "plt.imshow(X_tr_centered[1,:,:,40])\n",
    "plt.show()"
   ]
  },
  {
   "cell_type": "code",
   "execution_count": null,
   "metadata": {},
   "outputs": [],
   "source": []
  },
  {
   "cell_type": "markdown",
   "metadata": {},
   "source": [
    "### Batch generator: to generate mini-batches for training "
   ]
  },
  {
   "cell_type": "code",
   "execution_count": 12,
   "metadata": {},
   "outputs": [],
   "source": [
    "def batch_generator(X, y, batch_size=50, \n",
    "                    shuffle=True, random_seed=None):\n",
    "    \n",
    "    idx = np.arange(y.shape[0])\n",
    "    \n",
    "    if shuffle:\n",
    "        rng = np.random.RandomState(random_seed)\n",
    "        rng.shuffle(idx)\n",
    "        X = X[idx]\n",
    "        y = y[idx]\n",
    "    \n",
    "    for i in range(0, X.shape[0], batch_size):\n",
    "        yield (X[i:i+batch_size, :], y[i:i+batch_size])"
   ]
  },
  {
   "cell_type": "markdown",
   "metadata": {},
   "source": [
    "### 3D-CNN class"
   ]
  },
  {
   "cell_type": "code",
   "execution_count": 13,
   "metadata": {},
   "outputs": [],
   "source": [
    "class Conv3dNN(object):\n",
    "    def __init__(self, n_classes=4, batchsize=50,\n",
    "                 epochs=100, learning_rate=1e-4, \n",
    "                 dropout_rate=0.5,\n",
    "                 shuffle=True, random_seed=None):\n",
    "        np.random.seed(random_seed)\n",
    "        self.batchsize = batchsize\n",
    "        self.epochs = epochs\n",
    "        self.learning_rate = learning_rate\n",
    "        self.dropout_rate = dropout_rate\n",
    "        self.shuffle = shuffle\n",
    "        self.n_classes = n_classes\n",
    "                \n",
    "        g = tf.Graph()\n",
    "        with g.as_default():\n",
    "            ## set random-seed:\n",
    "            tf.set_random_seed(random_seed)\n",
    "            \n",
    "            ## build the network:\n",
    "            self.build()\n",
    "\n",
    "            ## initializer\n",
    "            self.init_op = \\\n",
    "                tf.global_variables_initializer()\n",
    "\n",
    "            ## saver\n",
    "            self.saver = tf.train.Saver()\n",
    "            \n",
    "        ## create a session\n",
    "        self.sess = tf.Session(graph=g)\n",
    "                \n",
    "    def build(self):\n",
    "        \n",
    "        ## Placeholders for X and y:\n",
    "        tf_x = tf.placeholder(tf.float32, \n",
    "                              shape=[None, 53, 63, 46],\n",
    "                              name='tf_x')\n",
    "        tf_y = tf.placeholder(tf.int32, \n",
    "                              shape=[None],\n",
    "                              name='tf_y')\n",
    "        is_train = tf.placeholder(tf.bool, \n",
    "                              shape=(),\n",
    "                              name='is_train')\n",
    "        \n",
    "        ## reshape x to 5D tensor:\n",
    "        ## [batchsize, x, y, z, 1]\n",
    "        tf_x_vol = tf.reshape(tf_x, shape=[-1, 53, 63, 46, 1],\n",
    "                             name='input_x_3d_volumes')\n",
    "\n",
    "        ## One-hot encoding:\n",
    "        tf_y_onehot = tf.one_hot(indices=tf_y, depth=4,\n",
    "                              dtype=tf.float32,\n",
    "                              name='input_y_onehot')\n",
    "\n",
    "        ## 1st layer: Conv_1\n",
    "        h1 = tf.layers.conv3d(tf_x_vol, \n",
    "                              filters=8, \n",
    "                              kernel_size=(7, 7, 7), \n",
    "                              strides=(1, 1, 1),\n",
    "                              padding='valid',\n",
    "                              activation=tf.nn.relu)\n",
    "        ## MaxPooling\n",
    "        h1_pool = tf.layers.max_pooling3d(h1, \n",
    "                              pool_size=(2, 2, 2), \n",
    "                              strides=(2, 2, 2))\n",
    "        \n",
    "        ## 2nd layer: Conv_2\n",
    "        h2 = tf.layers.conv3d(h1_pool, \n",
    "                              filters=16, \n",
    "                              kernel_size=(5, 5, 5), \n",
    "                              strides=(1,1,1),\n",
    "                              padding='valid',\n",
    "                              activation=tf.nn.relu)\n",
    "        ## MaxPooling \n",
    "        h2_pool = tf.layers.max_pooling3d(h2, \n",
    "                              pool_size=(2, 2, 2), \n",
    "                              strides=(2, 2, 2))\n",
    "\n",
    "        ## 3rd layer: Conv_3\n",
    "        h3 = tf.layers.conv3d(h2_pool, \n",
    "                              filters=32, \n",
    "                              kernel_size=(3, 3, 3), \n",
    "                              strides=(1,1,1),\n",
    "                              padding='valid',\n",
    "                              activation=tf.nn.relu)\n",
    "        ## MaxPooling \n",
    "        h3_pool = tf.layers.max_pooling3d(h3, \n",
    "                              pool_size=(2, 2, 2), \n",
    "                              strides=(2, 2, 2))\n",
    "        \n",
    "        ## 4th layer: Fully Connected\n",
    "        input_shape = h3_pool.get_shape().as_list()\n",
    "        n_input_units = np.prod(input_shape[1:])\n",
    "        h3_pool_flat = tf.reshape(h3_pool, \n",
    "                              shape=[-1, n_input_units])\n",
    "        \n",
    "        h4 = tf.layers.dense(h3_pool_flat, 128, \n",
    "                              activation=tf.nn.relu)\n",
    "\n",
    "        ## Dropout\n",
    "        h4_drop = tf.layers.dropout(h4, \n",
    "                              rate=self.dropout_rate,\n",
    "                              training=is_train)\n",
    "        \n",
    "        ## 5th layer: Fully Connected (linear activation)\n",
    "        h5 = tf.layers.dense(h4_drop, self.n_classes, \n",
    "                              activation=tf.nn.sigmoid)\n",
    "\n",
    "        ## Prediction\n",
    "        predictions = {\n",
    "            'probabilities': tf.nn.softmax(h5, \n",
    "                              name='probabilities'),\n",
    "            'labels': tf.cast(tf.argmax(h5, axis=1), \n",
    "                              tf.int32, name='labels')}\n",
    "        \n",
    "        ## Loss Function and Optimization\n",
    "        cross_entropy_loss = tf.reduce_mean(\n",
    "            tf.nn.softmax_cross_entropy_with_logits(\n",
    "                logits=h5, labels=tf_y_onehot),\n",
    "            name='cross_entropy_loss')\n",
    "        \n",
    "        ## Optimizer:\n",
    "        optimizer = tf.train.AdamOptimizer(self.learning_rate)\n",
    "        optimizer = optimizer.minimize(cross_entropy_loss,\n",
    "                              name='train_op')\n",
    "\n",
    "        ## Finding accuracy\n",
    "        correct_predictions = tf.equal(\n",
    "            predictions['labels'], \n",
    "            tf_y, name='correct_preds')\n",
    "        \n",
    "        accuracy = tf.reduce_mean(\n",
    "            tf.cast(correct_predictions, tf.float32),\n",
    "            name='accuracy')\n",
    "\n",
    "    def save(self, epoch, path='./CNN3d-tflayers-model/'):\n",
    "        if not os.path.isdir(path):\n",
    "            os.makedirs(path)\n",
    "        print('Saving model in %s' % path)\n",
    "        self.saver.save(self.sess, \n",
    "                        os.path.join(path, 'model.ckpt'),\n",
    "                        global_step=epoch)\n",
    "        \n",
    "    def load(self, epoch, path):\n",
    "        print('Loading model from %s' % path)\n",
    "        self.saver.restore(self.sess, \n",
    "             os.path.join(path, 'model.ckpt-%d' % epoch))\n",
    "        \n",
    "    def train(self, training_set, \n",
    "              validation_set=None,\n",
    "              initialize=True):\n",
    "        ## initialize variables\n",
    "        if initialize:\n",
    "            self.sess.run(self.init_op)\n",
    "\n",
    "        self.train_cost_ = []\n",
    "        X_data_tr = np.array(training_set[0])\n",
    "        y_data_tr = np.array(training_set[1])\n",
    "\n",
    "        for epoch in range(1, self.epochs + 1):\n",
    "            batch_gen_tr = \\\n",
    "                batch_generator(X_data_tr, y_data_tr, batch_size=self.batchsize, \n",
    "                                 shuffle=self.shuffle)\n",
    "            avg_loss = 0.0\n",
    "            for i, (batch_x,batch_y) in \\\n",
    "                enumerate(batch_gen_tr):\n",
    "                feed = {'tf_x:0': batch_x, \n",
    "                        'tf_y:0': batch_y,\n",
    "                        'is_train:0': True} ## for dropout\n",
    "                loss, _ = self.sess.run(\n",
    "                        ['cross_entropy_loss:0', 'train_op'], \n",
    "                        feed_dict=feed)\n",
    "                avg_loss += loss\n",
    "                \n",
    "            print('Epoch %02d: Training Avg. Loss: '\n",
    "                  '%7.3f' % (epoch, avg_loss), end=' ')\n",
    "            if validation_set is not None:\n",
    "                \n",
    "                X_data_ts = np.array(training_set[0])\n",
    "                y_data_ts = np.array(training_set[1])\n",
    "                # test accuracy\n",
    "                batch_gen_ts = \\\n",
    "                batch_generator(X_data_ts, y_data_ts,\n",
    "                                 shuffle=False,batch_size=self.batchsize)\n",
    "                avg_valid_acc = 0.0\n",
    "                for i, (batch_x,batch_y) in \\\n",
    "                    enumerate(batch_gen_ts):\n",
    "                    feed = {'tf_x:0': batch_x,\n",
    "                            'tf_y:0': batch_y,\n",
    "                            'is_train:0': False} ## for dropout\n",
    "                    avg_valid_acc = avg_valid_acc + self.sess.run('accuracy:0', feed_dict=feed)\n",
    "                avg_valid_acc = avg_valid_acc/(i+1)\n",
    "                \n",
    "                print('Validation Acc: %7.3f' % avg_valid_acc)\n",
    "            else:\n",
    "                print()\n",
    "                    \n",
    "    def predict(self, X_test, return_proba = False):\n",
    "        feed = {'tf_x:0': X_test,\n",
    "                'is_train:0': False} ## for dropout\n",
    "        if return_proba:\n",
    "            return self.sess.run('probabilities:0',\n",
    "                                 feed_dict=feed)\n",
    "        else:\n",
    "            return self.sess.run('labels:0',\n",
    "                                 feed_dict=feed)"
   ]
  },
  {
   "cell_type": "markdown",
   "metadata": {},
   "source": [
    "### Create an instance of the CNN3dNN class, train it, and save the trained model"
   ]
  },
  {
   "cell_type": "code",
   "execution_count": 14,
   "metadata": {},
   "outputs": [
    {
     "name": "stdout",
     "output_type": "stream",
     "text": [
      "Epoch 01: Training Avg. Loss:  36.404 Validation Acc:   0.609\n",
      "Epoch 02: Training Avg. Loss:  31.540 Validation Acc:   0.856\n",
      "Epoch 03: Training Avg. Loss:  26.874 Validation Acc:   0.914\n",
      "Epoch 04: Training Avg. Loss:  25.061 Validation Acc:   0.932\n",
      "Epoch 05: Training Avg. Loss:  23.826 Validation Acc:   0.950\n",
      "Epoch 06: Training Avg. Loss:  23.189 Validation Acc:   0.949\n",
      "Epoch 07: Training Avg. Loss:  22.600 Validation Acc:   0.961\n",
      "Epoch 08: Training Avg. Loss:  22.299 Validation Acc:   0.967\n",
      "Epoch 09: Training Avg. Loss:  22.072 Validation Acc:   0.970\n",
      "Epoch 10: Training Avg. Loss:  21.772 Validation Acc:   0.972\n",
      "Epoch 11: Training Avg. Loss:  21.623 Validation Acc:   0.972\n",
      "Epoch 12: Training Avg. Loss:  21.513 Validation Acc:   0.979\n",
      "Epoch 13: Training Avg. Loss:  21.484 Validation Acc:   0.981\n",
      "Epoch 14: Training Avg. Loss:  21.349 Validation Acc:   0.981\n",
      "Epoch 15: Training Avg. Loss:  21.248 Validation Acc:   0.979\n",
      "Epoch 16: Training Avg. Loss:  21.229 Validation Acc:   0.984\n",
      "Epoch 17: Training Avg. Loss:  21.346 Validation Acc:   0.987\n",
      "Epoch 18: Training Avg. Loss:  21.110 Validation Acc:   0.982\n",
      "Epoch 19: Training Avg. Loss:  20.899 Validation Acc:   0.984\n",
      "Epoch 20: Training Avg. Loss:  20.837 Validation Acc:   0.988\n",
      "Epoch 21: Training Avg. Loss:  20.806 Validation Acc:   0.985\n",
      "Epoch 22: Training Avg. Loss:  20.763 Validation Acc:   0.987\n",
      "Epoch 23: Training Avg. Loss:  20.758 Validation Acc:   0.991\n",
      "Epoch 24: Training Avg. Loss:  20.731 Validation Acc:   0.990\n",
      "Epoch 25: Training Avg. Loss:  20.726 Validation Acc:   0.990\n",
      "Epoch 26: Training Avg. Loss:  20.657 Validation Acc:   0.993\n",
      "Epoch 27: Training Avg. Loss:  20.742 Validation Acc:   0.993\n",
      "Epoch 28: Training Avg. Loss:  20.608 Validation Acc:   0.987\n",
      "Epoch 29: Training Avg. Loss:  20.612 Validation Acc:   0.993\n",
      "Epoch 30: Training Avg. Loss:  20.573 Validation Acc:   0.993\n",
      "Epoch 31: Training Avg. Loss:  20.614 Validation Acc:   0.994\n",
      "Epoch 32: Training Avg. Loss:  20.595 Validation Acc:   0.995\n",
      "Epoch 33: Training Avg. Loss:  20.507 Validation Acc:   0.993\n",
      "Epoch 34: Training Avg. Loss:  20.517 Validation Acc:   0.993\n",
      "Epoch 35: Training Avg. Loss:  20.420 Validation Acc:   0.998\n",
      "Epoch 36: Training Avg. Loss:  20.452 Validation Acc:   0.994\n",
      "Epoch 37: Training Avg. Loss:  20.473 Validation Acc:   0.997\n",
      "Epoch 38: Training Avg. Loss:  20.504 Validation Acc:   0.998\n",
      "Epoch 39: Training Avg. Loss:  20.423 Validation Acc:   0.999\n",
      "Epoch 40: Training Avg. Loss:  20.454 Validation Acc:   0.996\n",
      "Epoch 41: Training Avg. Loss:  20.388 Validation Acc:   0.998\n",
      "Epoch 42: Training Avg. Loss:  20.376 Validation Acc:   0.997\n",
      "Epoch 43: Training Avg. Loss:  20.384 Validation Acc:   1.000\n",
      "Epoch 44: Training Avg. Loss:  20.287 Validation Acc:   0.999\n",
      "Epoch 45: Training Avg. Loss:  20.387 Validation Acc:   0.998\n",
      "Epoch 46: Training Avg. Loss:  20.370 Validation Acc:   1.000\n",
      "Epoch 47: Training Avg. Loss:  20.367 Validation Acc:   0.995\n",
      "Epoch 48: Training Avg. Loss:  20.317 Validation Acc:   0.999\n",
      "Epoch 49: Training Avg. Loss:  20.289 Validation Acc:   1.000\n",
      "Epoch 50: Training Avg. Loss:  20.301 Validation Acc:   1.000\n",
      "Saving model in ./CNN3d-tflayers-model/\n"
     ]
    }
   ],
   "source": [
    "cnn3d = Conv3dNN(random_seed=123, epochs=50, n_classes=n_classes)\n",
    "\n",
    "cnn3d.train(training_set=(X_tr_centered, y_train), \n",
    "         validation_set=(X_ts_centered, y_test))\n",
    "\n",
    "cnn3d.save(epoch=50)"
   ]
  },
  {
   "cell_type": "markdown",
   "metadata": {},
   "source": [
    "### To load the trained model and to test it using data "
   ]
  },
  {
   "cell_type": "code",
   "execution_count": 17,
   "metadata": {},
   "outputs": [
    {
     "name": "stdout",
     "output_type": "stream",
     "text": [
      "Loading model from ./CNN3d-tflayers-model/\n",
      "INFO:tensorflow:Restoring parameters from ./CNN3d-tflayers-model/model.ckpt-50\n",
      "[3 2 2 0 3 2 3 3 1 1]\n"
     ]
    }
   ],
   "source": [
    "del cnn3d\n",
    "\n",
    "cnn3d_re = Conv3dNN(random_seed=123)\n",
    "cnn3d_re.load(epoch=50, path='./CNN3d-tflayers-model/')\n",
    "\n",
    "print(cnn3d_re.predict(X_ts_centered[:10,:,:,:]))\n"
   ]
  },
  {
   "cell_type": "markdown",
   "metadata": {},
   "source": [
    "### Accuray for all test data"
   ]
  },
  {
   "cell_type": "code",
   "execution_count": 18,
   "metadata": {},
   "outputs": [
    {
     "name": "stdout",
     "output_type": "stream",
     "text": [
      "Test Accuracy: 100.00\n"
     ]
    }
   ],
   "source": [
    "preds = cnn3d_re.predict(X_ts_centered)\n",
    "\n",
    "print('Test Accuracy: {:.2f}'.format( 100 * np.sum(y_test == preds)/len(y_test)))"
   ]
  },
    {
   "cell_type": "code",
   "execution_count": null,
   "metadata": {},
   "outputs": [],
   "source": []
  },
  {
   "cell_type": "code",
   "execution_count": null,
   "metadata": {},
   "outputs": [],
   "source": []
  },
  {
   "cell_type": "code",
   "execution_count": null,
   "metadata": {},
   "outputs": [],
   "source": []
  },
  {
   "cell_type": "code",
   "execution_count": null,
   "metadata": {},
   "outputs": [],
   "source": []
  },
  {
   "cell_type": "code",
   "execution_count": null,
   "metadata": {},
   "outputs": [],
   "source": []
  },
  {
   "cell_type": "code",
   "execution_count": null,
   "metadata": {},
   "outputs": [],
   "source": []
  },
  {
   "cell_type": "code",
   "execution_count": null,
   "metadata": {},
   "outputs": [],
   "source": []
  },
  {
   "cell_type": "code",
   "execution_count": null,
   "metadata": {},
   "outputs": [],
   "source": []
  },
  {
   "cell_type": "code",
   "execution_count": null,
   "metadata": {},
   "outputs": [],
   "source": []
  },
  {
   "cell_type": "code",
   "execution_count": null,
   "metadata": {},
   "outputs": [],
   "source": []
  },
  {
   "cell_type": "code",
   "execution_count": null,
   "metadata": {},
   "outputs": [],
   "source": []
  },
  {
   "cell_type": "code",
   "execution_count": null,
   "metadata": {},
   "outputs": [],
   "source": []
  },
  {
   "cell_type": "code",
   "execution_count": null,
   "metadata": {},
   "outputs": [],
   "source": []
  },
  {
   "cell_type": "code",
   "execution_count": null,
   "metadata": {},
   "outputs": [],
   "source": []
  },
  {
   "cell_type": "code",
   "execution_count": null,
   "metadata": {},
   "outputs": [],
   "source": []
  },
  {
   "cell_type": "code",
   "execution_count": null,
   "metadata": {},
   "outputs": [],
   "source": []
  },
  {
   "cell_type": "code",
   "execution_count": null,
   "metadata": {},
   "outputs": [],
   "source": []
  },
  {
   "cell_type": "code",
   "execution_count": null,
   "metadata": {},
   "outputs": [],
   "source": []
  },
  {
   "cell_type": "code",
   "execution_count": null,
   "metadata": {},
   "outputs": [],
   "source": []
  },
  {
   "cell_type": "code",
   "execution_count": null,
   "metadata": {},
   "outputs": [],
   "source": []
  }
 ],
 "metadata": {
  "kernelspec": {
   "display_name": "Python 3",
   "language": "python",
   "name": "python3"
  },
  "language_info": {
   "codemirror_mode": {
    "name": "ipython",
    "version": 3
   },
   "file_extension": ".py",
   "mimetype": "text/x-python",
   "name": "python",
   "nbconvert_exporter": "python",
   "pygments_lexer": "ipython3",
   "version": "3.6.9"
  }
 },
 "nbformat": 4,
 "nbformat_minor": 2
}
