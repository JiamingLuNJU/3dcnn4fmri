{
 "cells": [
  {
   "cell_type": "code",
   "execution_count": null,
   "metadata": {},
   "outputs": [],
   "source": [
    "import time\n",
    "import tensorflow as tf\n",
    "import numpy as np\n",
    "import scipy.io as sio\n",
    "import matplotlib.pyplot as plt\n",
    "%matplotlib inline"
   ]
  },
  {
   "cell_type": "code",
   "execution_count": null,
   "metadata": {},
   "outputs": [],
   "source": [
    "# model restore\n",
    "sess=tf.Session()\n",
    "saver = tf.train.import_meta_graph('./model/model.ckpt-100.meta')\n",
    "saver.restore(sess, tf.train.latest_checkpoint('./model/'))"
   ]
  },
  {
   "cell_type": "code",
   "execution_count": null,
   "metadata": {},
   "outputs": [],
   "source": [
    "# get the default graph\n",
    "graph = tf.get_default_graph()"
   ]
  },
  {
   "cell_type": "code",
   "execution_count": null,
   "metadata": {},
   "outputs": [],
   "source": [
    "# train test set load\n",
    "vols = sio.loadmat('./sensorimotor_4D_sample.mat')\n",
    "X_train, X_test, y_train, y_test = vols['X_train'], vols['X_test'], vols['y_train'], vols['y_test']\n",
    "\n",
    "x_mean = np.mean(X_train)\n",
    "x_std = np.std(X_train)\n",
    "X_tr_centered = (X_train - x_mean)/x_std\n",
    "X_ts_centered = (X_test - x_mean)/x_std\n",
    "y_train = y_train.flatten()\n",
    "y_test = y_test.flatten()"
   ]
  },
  {
   "cell_type": "code",
   "execution_count": null,
   "metadata": {},
   "outputs": [],
   "source": [
    "# placeholder load\n",
    "tf_x = graph.get_tensor_by_name(\"tf_x:0\") # shape:(none,53,63,46)\n",
    "is_train = graph.get_tensor_by_name(\"is_train:0\")"
   ]
  },
  {
   "cell_type": "code",
   "execution_count": null,
   "metadata": {},
   "outputs": [],
   "source": [
    "# get the 3rd conv layer tensor\n",
    "output_tensor = graph.get_tensor_by_name('conv3d_2/Relu:0')"
   ]
  },
  {
   "cell_type": "code",
   "execution_count": null,
   "metadata": {},
   "outputs": [],
   "source": [
    "# loop\n",
    "rslt = np.zeros((120,53,63,46))\n",
    "for vi in range(120):\n",
    "    input_image = X_ts_centered[vi,:]\n",
    "    x_value = np.expand_dims(input_image, axis=0)\n",
    "    conv3_fms = sess.run(output_tensor,{tf_x:x_value,is_train:False})\n",
    "    conv3_fm_avg = np.mean(conv3_fms.squeeze(),axis=3)\n",
    "    thr = np.percentile(conv3_fm_avg,99)\n",
    "    idx = np.where(conv3_fm_avg > thr)\n",
    "    nnn = idx[0].shape[0]\n",
    "    tmpnn = np.zeros((nnn,53,63,46))\n",
    "    for nn in range(nnn):\n",
    "        tp = np.zeros((32,53,63,46))\n",
    "        for ci in range(32):\n",
    "            out_center = output_tensor[:,idx[0][nn],idx[1][nn],idx[2][nn],ci]\n",
    "            # define the calculation\n",
    "            cal = tf.gradients(out_center,tf_x)[0]\n",
    "            x_value = np.expand_dims(input_image, axis=0)\n",
    "            # get the gradients\n",
    "            gradients = sess.run(cal, {tf_x:x_value,is_train:False})\n",
    "            tp[ci] = gradients\n",
    "        tmpnn[nn] = np.mean(tp, axis=0)\n",
    "    rslt[vi] = np.mean(tmpnn, axis=0)"
   ]
  },
  {
   "cell_type": "code",
   "execution_count": null,
   "metadata": {},
   "outputs": [],
   "source": [
    "# avg for each task\n",
    "rslt_avg = np.zeros((4,53,63,46))\n",
    "for ti in range(4):\n",
    "    tp = np.mean(rslt[ti*30:(ti+1)*30,:],axis=0)\n",
    "    rslt_avg[ti] = tp\n",
    "    f,axes= plt.subplots(7,7, figsize=(14,12.5),subplot_kw={'xticks': [], 'yticks': []})\n",
    "    f.subplots_adjust(hspace=0.01, wspace=0.01)\n",
    "    ax = axes.flat\n",
    "    for i in range(46):\n",
    "        ax[i].imshow(tp[:,:,i],vmin=tp.min(),vmax=tp.max(), cmap='jet')\n",
    "    plt.show()"
   ]
  },
  {
   "cell_type": "code",
   "execution_count": null,
   "metadata": {},
   "outputs": [],
   "source": []
  },
  {
   "cell_type": "code",
   "execution_count": null,
   "metadata": {},
   "outputs": [],
   "source": []
  },
  {
   "cell_type": "code",
   "execution_count": null,
   "metadata": {},
   "outputs": [],
   "source": []
  },
  {
   "cell_type": "code",
   "execution_count": null,
   "metadata": {},
   "outputs": [],
   "source": []
  },
  {
   "cell_type": "code",
   "execution_count": null,
   "metadata": {},
   "outputs": [],
   "source": []
  }
 ],
 "metadata": {
  "kernelspec": {
   "display_name": "Python 3",
   "language": "python",
   "name": "python3"
  },
  "language_info": {
   "codemirror_mode": {
    "name": "ipython",
    "version": 3
   },
   "file_extension": ".py",
   "mimetype": "text/x-python",
   "name": "python",
   "nbconvert_exporter": "python",
   "pygments_lexer": "ipython3",
   "version": "3.6.2"
  }
 },
 "nbformat": 4,
 "nbformat_minor": 2
}
